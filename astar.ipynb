{
 "cells": [
  {
   "cell_type": "code",
   "execution_count": 3,
   "metadata": {
    "executionInfo": {
     "elapsed": 492,
     "status": "ok",
     "timestamp": 1643205242509,
     "user": {
      "displayName": "Fakiha Amber",
      "photoUrl": "https://lh3.googleusercontent.com/a-/AOh14GiGG-DF76v7ihJLEC1lBK2623LQtmbZdQ6mMJon1g=s64",
      "userId": "08151942121580828205"
     },
     "user_tz": -330
    },
    "id": "XWdBu7T2HouN"
   },
   "outputs": [],
   "source": [
    "def astar(start_node,stop_node):\n",
    "    open_set=set(start_node)\n",
    "    closed_set=set()\n",
    "    g={}\n",
    "    parents={}\n",
    "    g[start_node]=0\n",
    "    parents[start_node]=start_node\n",
    "    while len(open_set)>0:\n",
    "        n=None\n",
    "        for v in open_set:\n",
    "            if n == None or g[v] + heuristic(v) < g[n] + heuristic(n):\n",
    "                n = v\n",
    "        if n == stop_node or graph_nodes[n] == None:\n",
    "            pass\n",
    "        else:\n",
    "            for(m,weight) in get_neighbors(n):\n",
    "                if m not in open_set and m not in closed_set:\n",
    "                    open_set.add(m)\n",
    "                    parents[m] = n\n",
    "                    g[m] = g[n] + weight\n",
    "            #for each node m, compare its distance from start i.e g(m) to from start through n node\n",
    "                else:\n",
    "                    if g[m] > g[n] +weight:\n",
    "                        #update g(m)\n",
    "                        g[m] = g[n] + weight\n",
    "                        if m in closed_set:\n",
    "                            closed_set.remove(m)\n",
    "                            open_set.add(m)\n",
    "        if n == None:\n",
    "            print('path does not exist')\n",
    "            return None\n",
    "        #if current node is stop_node \n",
    "        #then we begin resconstruction the path from it to start_node \n",
    "        if n== stop_node:\n",
    "            path=[]\n",
    "            while parents[n] != n:\n",
    "                path.append(n)\n",
    "                n = parents[n]\n",
    "            path.append(start_node)\n",
    "            path.reverse()\n",
    "            print('path found : {}'.format(path))\n",
    "            return path\n",
    "        #remove n from open_list, and add it to closed_list\n",
    "        #because all of its neighbors were inspected \n",
    "        open_set.remove(n)\n",
    "        closed_set.add(n)\n",
    "    print('path does not exist')\n",
    "    return None"
   ]
  },
  {
   "cell_type": "code",
   "execution_count": 4,
   "metadata": {
    "executionInfo": {
     "elapsed": 451,
     "status": "ok",
     "timestamp": 1643205247919,
     "user": {
      "displayName": "Fakiha Amber",
      "photoUrl": "https://lh3.googleusercontent.com/a-/AOh14GiGG-DF76v7ihJLEC1lBK2623LQtmbZdQ6mMJon1g=s64",
      "userId": "08151942121580828205"
     },
     "user_tz": -330
    },
    "id": "_NXxs3DTHouS"
   },
   "outputs": [],
   "source": [
    "#define function to return neighbor and its distance from passed node\n",
    "def get_neighbors(v):\n",
    "    if v in graph_nodes:\n",
    "        return graph_nodes[v]\n",
    "    else:\n",
    "        return None"
   ]
  },
  {
   "cell_type": "code",
   "execution_count": 5,
   "metadata": {
    "executionInfo": {
     "elapsed": 470,
     "status": "ok",
     "timestamp": 1643205252583,
     "user": {
      "displayName": "Fakiha Amber",
      "photoUrl": "https://lh3.googleusercontent.com/a-/AOh14GiGG-DF76v7ihJLEC1lBK2623LQtmbZdQ6mMJon1g=s64",
      "userId": "08151942121580828205"
     },
     "user_tz": -330
    },
    "id": "TyrupdjVHouT"
   },
   "outputs": [],
   "source": [
    "#for simplicity we'll consider heuristic distances given and this fun()\n",
    "#returns heuristic distance for all nodes \n",
    "def heuristic(n):\n",
    "    h_dist = {\n",
    "        'A': 11,\n",
    "        'B': 6,\n",
    "        'C':5,\n",
    "        'D':7,\n",
    "        'E':3,\n",
    "        'F':6,\n",
    "        'G':5,\n",
    "        'H':3,\n",
    "        'I':1,\n",
    "        'J':0 \n",
    "    }\n",
    "    return h_dist[n]"
   ]
  },
  {
   "cell_type": "code",
   "execution_count": 6,
   "metadata": {
    "executionInfo": {
     "elapsed": 435,
     "status": "ok",
     "timestamp": 1643205257496,
     "user": {
      "displayName": "Fakiha Amber",
      "photoUrl": "https://lh3.googleusercontent.com/a-/AOh14GiGG-DF76v7ihJLEC1lBK2623LQtmbZdQ6mMJon1g=s64",
      "userId": "08151942121580828205"
     },
     "user_tz": -330
    },
    "id": "hFJxPHugHouU"
   },
   "outputs": [],
   "source": [
    "graph_nodes ={\n",
    "    'A':[('B',6),('F',3)],\n",
    "    'B':[('A',6),('C',3),('D',2)],\n",
    "    'C':[('B',3),('D',1),('E',5)],\n",
    "    'D':[('B',2),('C',1),('E',8)],\n",
    "    'E':[('C',5),('D',8),('I',5),('J',5)],\n",
    "    'F':[('A',3),('G',1),('H',7)],\n",
    "    'G':[('F',1),('I',3)],\n",
    "    'H':[('F',7),('I',2)],\n",
    "    'I':[('E',5),('G',3),('H',2),('J',3)]\n",
    "}"
   ]
  },
  {
   "cell_type": "code",
   "execution_count": 7,
   "metadata": {
    "colab": {
     "base_uri": "https://localhost:8080/"
    },
    "executionInfo": {
     "elapsed": 11,
     "status": "ok",
     "timestamp": 1643205260146,
     "user": {
      "displayName": "Fakiha Amber",
      "photoUrl": "https://lh3.googleusercontent.com/a-/AOh14GiGG-DF76v7ihJLEC1lBK2623LQtmbZdQ6mMJon1g=s64",
      "userId": "08151942121580828205"
     },
     "user_tz": -330
    },
    "id": "ngSmGk9VHouU",
    "outputId": "ca86a07b-aa2a-4417-f044-a55363cd5eb0"
   },
   "outputs": [
    {
     "name": "stdout",
     "output_type": "stream",
     "text": [
      "path found : ['A', 'F', 'G', 'I', 'J']\n"
     ]
    },
    {
     "data": {
      "text/plain": [
       "['A', 'F', 'G', 'I', 'J']"
      ]
     },
     "execution_count": 7,
     "metadata": {},
     "output_type": "execute_result"
    }
   ],
   "source": [
    "astar('A','J')"
   ]
  },
  {
   "cell_type": "code",
   "execution_count": 8,
   "metadata": {
    "executionInfo": {
     "elapsed": 447,
     "status": "ok",
     "timestamp": 1643205263918,
     "user": {
      "displayName": "Fakiha Amber",
      "photoUrl": "https://lh3.googleusercontent.com/a-/AOh14GiGG-DF76v7ihJLEC1lBK2623LQtmbZdQ6mMJon1g=s64",
      "userId": "08151942121580828205"
     },
     "user_tz": -330
    },
    "id": "kOqZG0PYHouV"
   },
   "outputs": [],
   "source": [
    "def heuristic(n):\n",
    "    h_dist ={\n",
    "        'A':11,\n",
    "        'B':6,\n",
    "        'C':99,\n",
    "        'D':1,\n",
    "        'E':7,\n",
    "        'G':0\n",
    "    }\n",
    "    return h_dist[n]\n",
    "\n",
    "graph_nodes ={\n",
    "    'A':[('B',2),('E',3)],\n",
    "    'B':[('A',2),('C',1),('G',9)],\n",
    "    'C':[('B',1)],\n",
    "    'D':[('E',6),('G',1)],\n",
    "    'E':[('A',3),('D',6)],\n",
    "    'G':[('B',9),('D',1)]\n",
    "}\n",
    "    "
   ]
  },
  {
   "cell_type": "code",
   "execution_count": null,
   "metadata": {
    "id": "l11jP6F-HouW"
   },
   "outputs": [],
   "source": [
    "astar('A','G')"
   ]
  },
  {
   "cell_type": "code",
   "execution_count": null,
   "metadata": {
    "id": "XJhM1on7hZuw"
   },
   "outputs": [],
   "source": []
  }
 ],
 "metadata": {
  "colab": {
   "name": "astar.ipynb",
   "provenance": []
  },
  "interpreter": {
   "hash": "dcacb0086e9a4f4eabd41c33bf4faac5ea0a3337ed3f5eff0680afa930572c04"
  },
  "kernelspec": {
   "display_name": "Python 3",
   "language": "python",
   "name": "python3"
  },
  "language_info": {
   "codemirror_mode": {
    "name": "ipython",
    "version": 3
   },
   "file_extension": ".py",
   "mimetype": "text/x-python",
   "name": "python",
   "nbconvert_exporter": "python",
   "pygments_lexer": "ipython3",
   "version": "3.8.5"
  }
 },
 "nbformat": 4,
 "nbformat_minor": 1
}
