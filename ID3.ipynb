{
 "cells": [
  {
   "cell_type": "code",
   "execution_count": null,
   "metadata": {
    "id": "HTrKHm7pr4cq"
   },
   "outputs": [],
   "source": [
    "import pandas as pd\n",
    "from collections import Counter\n",
    "import math\n",
    "from pprint import pprint"
   ]
  },
  {
   "cell_type": "code",
   "execution_count": null,
   "metadata": {
    "id": "Gxk5BcxHr4c1",
    "outputId": "70051e75-7a22-46c3-8fbe-6fb1def0edd8"
   },
   "outputs": [
    {
     "name": "stdout",
     "output_type": "stream",
     "text": [
      "     outlook temperature humidity    wind playtennis\n",
      "0      sunny         hot     high    weak         no\n",
      "1      sunny         hot     high  strong         no\n",
      "2   overcast         hot     high    weak        yes\n",
      "3       rain        mild     high    weak        yes\n",
      "4       rain        cool   normal    weak        yes\n",
      "5       rain        cool   normal  strong         no\n",
      "6   overcast        cool   normal  strong        yes\n",
      "7      sunny        mild     high    weak         no\n",
      "8      sunny        cool   normal    weak        yes\n",
      "9       rain        mild   normal    weak        yes\n",
      "10     sunny        mild   normal    weak        yes\n",
      "11  overcast        mild     high  strong        yes\n",
      "12  overcast         hot   normal    weak        yes\n",
      "13      rain        mild     high  strong         no\n"
     ]
    }
   ],
   "source": [
    "df_tennis=pd.read_csv('id3_ds.csv')\n",
    "print(df_tennis)"
   ]
  },
  {
   "cell_type": "code",
   "execution_count": null,
   "metadata": {
    "id": "tonMgOckr4c5"
   },
   "outputs": [],
   "source": [
    "def entropy(probs):\n",
    "    return sum([-prob*math.log(prob,2)for prob in probs])\n"
   ]
  },
  {
   "cell_type": "code",
   "execution_count": null,
   "metadata": {
    "id": "tTKc4iyZr4c8"
   },
   "outputs": [],
   "source": [
    "def entropy_of_list(a_list):\n",
    "    cnt=Counter(x for x in a_list)\n",
    "    print(\"No and Yes class:\",a_list.name,cnt)\n",
    "    num_instances=len(a_list)*1.0\n",
    "    probs=[x/num_instances for x in cnt.values()]\n",
    "    print()\n",
    "    return entropy(probs)"
   ]
  },
  {
   "cell_type": "code",
   "execution_count": null,
   "metadata": {
    "id": "MsHL1fC3r4c-",
    "outputId": "86c1ec7f-2dcb-4bc7-b2c3-757df503f422"
   },
   "outputs": [
    {
     "name": "stdout",
     "output_type": "stream",
     "text": [
      "0      no\n",
      "1      no\n",
      "2     yes\n",
      "3     yes\n",
      "4     yes\n",
      "5      no\n",
      "6     yes\n",
      "7      no\n",
      "8     yes\n",
      "9     yes\n",
      "10    yes\n",
      "11    yes\n",
      "12    yes\n",
      "13     no\n",
      "Name: playtennis, dtype: object\n",
      "No and Yes class: playtennis Counter({'yes': 9, 'no': 5})\n",
      "\n",
      "entropy of given playtennis dataset: 0.9402859586706309\n"
     ]
    }
   ],
   "source": [
    "print(df_tennis['playtennis'])\n",
    "total_entropy=entropy_of_list(df_tennis['playtennis'])\n",
    "print(\"entropy of given playtennis dataset:\",total_entropy)"
   ]
  },
  {
   "cell_type": "code",
   "execution_count": null,
   "metadata": {
    "id": "XcsRh93jr4dB"
   },
   "outputs": [],
   "source": [
    "def information_gain(data,split_attribute_name,target_attribute,trace=0):\n",
    "    print(\"info gain calculation of \",split_attribute_name)\n",
    "    data_split = data.groupby(split_attribute_name)\n",
    "    for name,group in data_split:\n",
    "        print(name)\n",
    "        print(group)\n",
    "    nobs = len(data.index)*1.0\n",
    "    data_agg1 = data_split.agg({target_attribute:lambda x:entropy_of_list(x)})\n",
    "    data_agg2 = data_split.agg({target_attribute:lambda x:len(x)/nobs})\n",
    "    data_agg1.columns = ['entropy']\n",
    "    data_agg2.columns = ['proportion']\n",
    "    new_entropy = sum(data_agg1['entropy']*data_agg2['proportion'])\n",
    "    old_entropy = entropy_of_list(data[target_attribute])\n",
    "    print()\n",
    "    return old_entropy-new_entropy"
   ]
  },
  {
   "cell_type": "code",
   "execution_count": null,
   "metadata": {
    "id": "6uaCMhA1r4dE",
    "outputId": "b2b415b1-5978-4b09-b723-57fed5ed7349"
   },
   "outputs": [
    {
     "name": "stdout",
     "output_type": "stream",
     "text": [
      "info gain calculation of  outlook\n",
      "overcast\n",
      "     outlook temperature humidity    wind playtennis\n",
      "2   overcast         hot     high    weak        yes\n",
      "6   overcast        cool   normal  strong        yes\n",
      "11  overcast        mild     high  strong        yes\n",
      "12  overcast         hot   normal    weak        yes\n",
      "rain\n",
      "   outlook temperature humidity    wind playtennis\n",
      "3     rain        mild     high    weak        yes\n",
      "4     rain        cool   normal    weak        yes\n",
      "5     rain        cool   normal  strong         no\n",
      "9     rain        mild   normal    weak        yes\n",
      "13    rain        mild     high  strong         no\n",
      "sunny\n",
      "   outlook temperature humidity    wind playtennis\n",
      "0    sunny         hot     high    weak         no\n",
      "1    sunny         hot     high  strong         no\n",
      "7    sunny        mild     high    weak         no\n",
      "8    sunny        cool   normal    weak        yes\n",
      "10   sunny        mild   normal    weak        yes\n",
      "No and Yes class: playtennis Counter({'yes': 4})\n",
      "\n",
      "No and Yes class: playtennis Counter({'yes': 3, 'no': 2})\n",
      "\n",
      "No and Yes class: playtennis Counter({'no': 3, 'yes': 2})\n",
      "\n",
      "No and Yes class: playtennis Counter({'yes': 9, 'no': 5})\n",
      "\n",
      "\n",
      "info gain for outlook is :0.2467498197744391 \n",
      "\n"
     ]
    }
   ],
   "source": [
    "print(\"info gain for outlook is :\"+ str(information_gain(df_tennis,'outlook','playtennis')),\"\\n\")"
   ]
  },
  {
   "cell_type": "code",
   "execution_count": null,
   "metadata": {
    "id": "gyZdsD1Tr4dJ",
    "outputId": "04f63d05-266e-4007-c196-40c1fcdab9dd"
   },
   "outputs": [
    {
     "name": "stdout",
     "output_type": "stream",
     "text": [
      "\n",
      "info gain calculation of  humidity\n",
      "high\n",
      "     outlook temperature humidity    wind playtennis\n",
      "0      sunny         hot     high    weak         no\n",
      "1      sunny         hot     high  strong         no\n",
      "2   overcast         hot     high    weak        yes\n",
      "3       rain        mild     high    weak        yes\n",
      "7      sunny        mild     high    weak         no\n",
      "11  overcast        mild     high  strong        yes\n",
      "13      rain        mild     high  strong         no\n",
      "normal\n",
      "     outlook temperature humidity    wind playtennis\n",
      "4       rain        cool   normal    weak        yes\n",
      "5       rain        cool   normal  strong         no\n",
      "6   overcast        cool   normal  strong        yes\n",
      "8      sunny        cool   normal    weak        yes\n",
      "9       rain        mild   normal    weak        yes\n",
      "10     sunny        mild   normal    weak        yes\n",
      "12  overcast         hot   normal    weak        yes\n",
      "No and Yes class: playtennis Counter({'no': 4, 'yes': 3})\n",
      "\n",
      "No and Yes class: playtennis Counter({'yes': 6, 'no': 1})\n",
      "\n",
      "No and Yes class: playtennis Counter({'yes': 9, 'no': 5})\n",
      "\n",
      "\n",
      "info gain for humidity is :0.15183550136234136 \n",
      "\n"
     ]
    }
   ],
   "source": [
    "print()\n",
    "print(\"info gain for humidity is :\"+ str(information_gain(df_tennis,'humidity','playtennis')),\"\\n\")\n"
   ]
  },
  {
   "cell_type": "code",
   "execution_count": null,
   "metadata": {
    "id": "VUMpvM4rr4dN",
    "outputId": "3b32c3bb-0d8e-4108-ecc1-a8d799f11a7e"
   },
   "outputs": [
    {
     "name": "stdout",
     "output_type": "stream",
     "text": [
      "\n",
      "info gain calculation of  temperature\n",
      "cool\n",
      "    outlook temperature humidity    wind playtennis\n",
      "4      rain        cool   normal    weak        yes\n",
      "5      rain        cool   normal  strong         no\n",
      "6  overcast        cool   normal  strong        yes\n",
      "8     sunny        cool   normal    weak        yes\n",
      "hot\n",
      "     outlook temperature humidity    wind playtennis\n",
      "0      sunny         hot     high    weak         no\n",
      "1      sunny         hot     high  strong         no\n",
      "2   overcast         hot     high    weak        yes\n",
      "12  overcast         hot   normal    weak        yes\n",
      "mild\n",
      "     outlook temperature humidity    wind playtennis\n",
      "3       rain        mild     high    weak        yes\n",
      "7      sunny        mild     high    weak         no\n",
      "9       rain        mild   normal    weak        yes\n",
      "10     sunny        mild   normal    weak        yes\n",
      "11  overcast        mild     high  strong        yes\n",
      "13      rain        mild     high  strong         no\n",
      "No and Yes class: playtennis Counter({'yes': 3, 'no': 1})\n",
      "\n",
      "No and Yes class: playtennis Counter({'no': 2, 'yes': 2})\n",
      "\n",
      "No and Yes class: playtennis Counter({'yes': 4, 'no': 2})\n",
      "\n",
      "No and Yes class: playtennis Counter({'yes': 9, 'no': 5})\n",
      "\n",
      "\n",
      "info gain for temperature is :0.029222565658954647 \n",
      "\n"
     ]
    }
   ],
   "source": [
    "print()\n",
    "print(\"info gain for temperature is :\"+ str(information_gain(df_tennis,'temperature','playtennis')),\"\\n\")"
   ]
  },
  {
   "cell_type": "code",
   "execution_count": null,
   "metadata": {
    "id": "a_A5uLafr4dP"
   },
   "outputs": [],
   "source": [
    "def id3(df,target_attribute_name,attribute_names,default_class=None):\n",
    "    cnt=Counter(x for x in df[target_attribute_name])\n",
    "    if len(cnt)==1:\n",
    "        return next(iter(cnt))\n",
    "    elif df.empty or (not attribute_names):\n",
    "        return default_class\n",
    "    else:\n",
    "        default_class=max(cnt.keys())\n",
    "        gainz=[information_gain(df,attr,target_attribute_name) for attr in attribute_names]\n",
    "        index_of_max=gainz.index(max(gainz))\n",
    "        best_attr=attribute_names[index_of_max]\n",
    "        tree={best_attr:{ }}\n",
    "        remaining_attribute_names=[i for i in attribute_names if i!=best_attr]\n",
    "        for attr_val,data_subset in df.groupby(best_attr):\n",
    "            subtree=id3(data_subset,target_attribute_name,remaining_attribute_names,default_class)\n",
    "            tree[best_attr][attr_val]=subtree\n",
    "            print()\n",
    "    return tree"
   ]
  },
  {
   "cell_type": "code",
   "execution_count": null,
   "metadata": {
    "id": "NeyuW1qfr4dS",
    "outputId": "c9bf5054-9f57-4c81-e2cc-566f42a23e49"
   },
   "outputs": [
    {
     "name": "stdout",
     "output_type": "stream",
     "text": [
      "list of attributes: ['outlook', 'temperature', 'humidity', 'wind', 'playtennis']\n"
     ]
    }
   ],
   "source": [
    "attribute_names=list(df_tennis.columns)\n",
    "print(\"list of attributes:\",attribute_names)\n"
   ]
  },
  {
   "cell_type": "code",
   "execution_count": null,
   "metadata": {
    "id": "Y3t2WPWqr4dU",
    "outputId": "21c8d0e2-fc54-4fdf-8781-75c0176d37ad"
   },
   "outputs": [
    {
     "name": "stdout",
     "output_type": "stream",
     "text": [
      "pridicting attributes: ['outlook', 'temperature', 'humidity', 'wind']\n"
     ]
    }
   ],
   "source": [
    "attribute_names.remove('playtennis')\n",
    "print(\"pridicting attributes:\",attribute_names)"
   ]
  },
  {
   "cell_type": "code",
   "execution_count": null,
   "metadata": {
    "id": "jiRoJBECr4dW",
    "outputId": "ab0d760c-f424-40eb-9e2c-4191371c541f"
   },
   "outputs": [
    {
     "name": "stdout",
     "output_type": "stream",
     "text": [
      "info gain calculation of  outlook\n",
      "overcast\n",
      "     outlook temperature humidity    wind playtennis\n",
      "2   overcast         hot     high    weak        yes\n",
      "6   overcast        cool   normal  strong        yes\n",
      "11  overcast        mild     high  strong        yes\n",
      "12  overcast         hot   normal    weak        yes\n",
      "rain\n",
      "   outlook temperature humidity    wind playtennis\n",
      "3     rain        mild     high    weak        yes\n",
      "4     rain        cool   normal    weak        yes\n",
      "5     rain        cool   normal  strong         no\n",
      "9     rain        mild   normal    weak        yes\n",
      "13    rain        mild     high  strong         no\n",
      "sunny\n",
      "   outlook temperature humidity    wind playtennis\n",
      "0    sunny         hot     high    weak         no\n",
      "1    sunny         hot     high  strong         no\n",
      "7    sunny        mild     high    weak         no\n",
      "8    sunny        cool   normal    weak        yes\n",
      "10   sunny        mild   normal    weak        yes\n",
      "No and Yes class: playtennis Counter({'yes': 4})\n",
      "\n",
      "No and Yes class: playtennis Counter({'yes': 3, 'no': 2})\n",
      "\n",
      "No and Yes class: playtennis Counter({'no': 3, 'yes': 2})\n",
      "\n",
      "No and Yes class: playtennis Counter({'yes': 9, 'no': 5})\n",
      "\n",
      "\n",
      "info gain calculation of  temperature\n",
      "cool\n",
      "    outlook temperature humidity    wind playtennis\n",
      "4      rain        cool   normal    weak        yes\n",
      "5      rain        cool   normal  strong         no\n",
      "6  overcast        cool   normal  strong        yes\n",
      "8     sunny        cool   normal    weak        yes\n",
      "hot\n",
      "     outlook temperature humidity    wind playtennis\n",
      "0      sunny         hot     high    weak         no\n",
      "1      sunny         hot     high  strong         no\n",
      "2   overcast         hot     high    weak        yes\n",
      "12  overcast         hot   normal    weak        yes\n",
      "mild\n",
      "     outlook temperature humidity    wind playtennis\n",
      "3       rain        mild     high    weak        yes\n",
      "7      sunny        mild     high    weak         no\n",
      "9       rain        mild   normal    weak        yes\n",
      "10     sunny        mild   normal    weak        yes\n",
      "11  overcast        mild     high  strong        yes\n",
      "13      rain        mild     high  strong         no\n",
      "No and Yes class: playtennis Counter({'yes': 3, 'no': 1})\n",
      "\n",
      "No and Yes class: playtennis Counter({'no': 2, 'yes': 2})\n",
      "\n",
      "No and Yes class: playtennis Counter({'yes': 4, 'no': 2})\n",
      "\n",
      "No and Yes class: playtennis Counter({'yes': 9, 'no': 5})\n",
      "\n",
      "\n",
      "info gain calculation of  humidity\n",
      "high\n",
      "     outlook temperature humidity    wind playtennis\n",
      "0      sunny         hot     high    weak         no\n",
      "1      sunny         hot     high  strong         no\n",
      "2   overcast         hot     high    weak        yes\n",
      "3       rain        mild     high    weak        yes\n",
      "7      sunny        mild     high    weak         no\n",
      "11  overcast        mild     high  strong        yes\n",
      "13      rain        mild     high  strong         no\n",
      "normal\n",
      "     outlook temperature humidity    wind playtennis\n",
      "4       rain        cool   normal    weak        yes\n",
      "5       rain        cool   normal  strong         no\n",
      "6   overcast        cool   normal  strong        yes\n",
      "8      sunny        cool   normal    weak        yes\n",
      "9       rain        mild   normal    weak        yes\n",
      "10     sunny        mild   normal    weak        yes\n",
      "12  overcast         hot   normal    weak        yes\n",
      "No and Yes class: playtennis Counter({'no': 4, 'yes': 3})\n",
      "\n",
      "No and Yes class: playtennis Counter({'yes': 6, 'no': 1})\n",
      "\n",
      "No and Yes class: playtennis Counter({'yes': 9, 'no': 5})\n",
      "\n",
      "\n",
      "info gain calculation of  wind\n",
      "strong\n",
      "     outlook temperature humidity    wind playtennis\n",
      "1      sunny         hot     high  strong         no\n",
      "5       rain        cool   normal  strong         no\n",
      "6   overcast        cool   normal  strong        yes\n",
      "11  overcast        mild     high  strong        yes\n",
      "13      rain        mild     high  strong         no\n",
      "weak\n",
      "     outlook temperature humidity  wind playtennis\n",
      "0      sunny         hot     high  weak         no\n",
      "2   overcast         hot     high  weak        yes\n",
      "3       rain        mild     high  weak        yes\n",
      "4       rain        cool   normal  weak        yes\n",
      "7      sunny        mild     high  weak         no\n",
      "8      sunny        cool   normal  weak        yes\n",
      "9       rain        mild   normal  weak        yes\n",
      "10     sunny        mild   normal  weak        yes\n",
      "12  overcast         hot   normal  weak        yes\n",
      "No and Yes class: playtennis Counter({'no': 3, 'yes': 2})\n",
      "\n",
      "No and Yes class: playtennis Counter({'yes': 7, 'no': 2})\n",
      "\n",
      "No and Yes class: playtennis Counter({'yes': 9, 'no': 5})\n",
      "\n",
      "\n",
      "\n",
      "info gain calculation of  temperature\n",
      "cool\n",
      "  outlook temperature humidity    wind playtennis\n",
      "4    rain        cool   normal    weak        yes\n",
      "5    rain        cool   normal  strong         no\n",
      "mild\n",
      "   outlook temperature humidity    wind playtennis\n",
      "3     rain        mild     high    weak        yes\n",
      "9     rain        mild   normal    weak        yes\n",
      "13    rain        mild     high  strong         no\n",
      "No and Yes class: playtennis Counter({'yes': 1, 'no': 1})\n",
      "\n",
      "No and Yes class: playtennis Counter({'yes': 2, 'no': 1})\n",
      "\n",
      "No and Yes class: playtennis Counter({'yes': 3, 'no': 2})\n",
      "\n",
      "\n",
      "info gain calculation of  humidity\n",
      "high\n",
      "   outlook temperature humidity    wind playtennis\n",
      "3     rain        mild     high    weak        yes\n",
      "13    rain        mild     high  strong         no\n",
      "normal\n",
      "  outlook temperature humidity    wind playtennis\n",
      "4    rain        cool   normal    weak        yes\n",
      "5    rain        cool   normal  strong         no\n",
      "9    rain        mild   normal    weak        yes\n",
      "No and Yes class: playtennis Counter({'yes': 1, 'no': 1})\n",
      "\n",
      "No and Yes class: playtennis Counter({'yes': 2, 'no': 1})\n",
      "\n",
      "No and Yes class: playtennis Counter({'yes': 3, 'no': 2})\n",
      "\n",
      "\n",
      "info gain calculation of  wind\n",
      "strong\n",
      "   outlook temperature humidity    wind playtennis\n",
      "5     rain        cool   normal  strong         no\n",
      "13    rain        mild     high  strong         no\n",
      "weak\n",
      "  outlook temperature humidity  wind playtennis\n",
      "3    rain        mild     high  weak        yes\n",
      "4    rain        cool   normal  weak        yes\n",
      "9    rain        mild   normal  weak        yes\n",
      "No and Yes class: playtennis Counter({'no': 2})\n",
      "\n",
      "No and Yes class: playtennis Counter({'yes': 3})\n",
      "\n",
      "No and Yes class: playtennis Counter({'yes': 3, 'no': 2})\n",
      "\n",
      "\n",
      "\n",
      "\n",
      "\n",
      "info gain calculation of  temperature\n",
      "cool\n",
      "  outlook temperature humidity  wind playtennis\n",
      "8   sunny        cool   normal  weak        yes\n",
      "hot\n",
      "  outlook temperature humidity    wind playtennis\n",
      "0   sunny         hot     high    weak         no\n",
      "1   sunny         hot     high  strong         no\n",
      "mild\n",
      "   outlook temperature humidity  wind playtennis\n",
      "7    sunny        mild     high  weak         no\n",
      "10   sunny        mild   normal  weak        yes\n",
      "No and Yes class: playtennis Counter({'yes': 1})\n",
      "\n",
      "No and Yes class: playtennis Counter({'no': 2})\n",
      "\n",
      "No and Yes class: playtennis Counter({'no': 1, 'yes': 1})\n",
      "\n",
      "No and Yes class: playtennis Counter({'no': 3, 'yes': 2})\n",
      "\n",
      "\n",
      "info gain calculation of  humidity\n",
      "high\n",
      "  outlook temperature humidity    wind playtennis\n",
      "0   sunny         hot     high    weak         no\n",
      "1   sunny         hot     high  strong         no\n",
      "7   sunny        mild     high    weak         no\n",
      "normal\n",
      "   outlook temperature humidity  wind playtennis\n",
      "8    sunny        cool   normal  weak        yes\n",
      "10   sunny        mild   normal  weak        yes\n",
      "No and Yes class: playtennis Counter({'no': 3})\n",
      "\n",
      "No and Yes class: playtennis Counter({'yes': 2})\n",
      "\n",
      "No and Yes class: playtennis Counter({'no': 3, 'yes': 2})\n",
      "\n",
      "\n",
      "info gain calculation of  wind\n",
      "strong\n",
      "  outlook temperature humidity    wind playtennis\n",
      "1   sunny         hot     high  strong         no\n",
      "weak\n",
      "   outlook temperature humidity  wind playtennis\n",
      "0    sunny         hot     high  weak         no\n",
      "7    sunny        mild     high  weak         no\n",
      "8    sunny        cool   normal  weak        yes\n",
      "10   sunny        mild   normal  weak        yes\n",
      "No and Yes class: playtennis Counter({'no': 1})\n",
      "\n",
      "No and Yes class: playtennis Counter({'no': 2, 'yes': 2})\n",
      "\n",
      "No and Yes class: playtennis Counter({'no': 3, 'yes': 2})\n",
      "\n",
      "\n",
      "\n",
      "\n",
      "\n",
      "\n"
     ]
    }
   ],
   "source": [
    "tree=id3(df_tennis,\"playtennis\",attribute_names)\n",
    "print()"
   ]
  },
  {
   "cell_type": "code",
   "execution_count": null,
   "metadata": {
    "id": "BTZw4mV0r4dX",
    "outputId": "2e2a9817-7de2-4039-8a8a-514fa6808af7"
   },
   "outputs": [
    {
     "name": "stdout",
     "output_type": "stream",
     "text": [
      "'\\n\\n the result decison tree is:\\n'\n",
      "{'outlook': {'overcast': 'yes',\n",
      "             'rain': {'wind': {'strong': 'no', 'weak': 'yes'}},\n",
      "             'sunny': {'humidity': {'high': 'no', 'normal': 'yes'}}}}\n"
     ]
    }
   ],
   "source": [
    "pprint(\"\\n\\n the result decison tree is:\\n\")\n",
    "pprint(tree)"
   ]
  },
  {
   "cell_type": "code",
   "execution_count": null,
   "metadata": {
    "id": "IHhvHwsIr4dZ"
   },
   "outputs": [],
   "source": [
    "\n",
    "def classify(instance,tree,default=None):\n",
    "    attribute=next(iter(tree))\n",
    "    if instance[attribute] in tree[attribute].keys():\n",
    "        result=tree[attribute][instance[attribute]]\n",
    "        if isinstance(result,dict):\n",
    "            return classify(instance,result)\n",
    "        else:return result\n",
    "    else:\n",
    "        return default\n"
   ]
  },
  {
   "cell_type": "code",
   "execution_count": null,
   "metadata": {
    "id": "6iKBKGDMr4da",
    "outputId": "2f2bdafe-0d7a-4402-8c0f-cb321a7087c1"
   },
   "outputs": [
    {
     "name": "stdout",
     "output_type": "stream",
     "text": [
      "    outlook temperature humidity    wind predicted\n",
      "0  overcast         hot   normal    weak       yes\n",
      "1      rain        mild     high  strong        no\n",
      "2     sunny        mild     high    weak        no\n",
      "3     sunny        cool   normal    weak       yes\n"
     ]
    }
   ],
   "source": [
    "df_new=pd.read_csv('PlayTennisTest.csv')\n",
    "df_new['predicted']=df_new.apply(classify,axis=1,args=(tree,'?'))\n",
    "df_new.drop([\"playtennis\"], axis = 1, inplace = True)\n",
    "print(df_new)"
   ]
  }
 ],
 "metadata": {
  "colab": {
   "name": "ID3.ipynb",
   "provenance": []
  },
  "interpreter": {
   "hash": "dcacb0086e9a4f4eabd41c33bf4faac5ea0a3337ed3f5eff0680afa930572c04"
  },
  "kernelspec": {
   "display_name": "Python 3",
   "language": "python",
   "name": "python3"
  },
  "language_info": {
   "codemirror_mode": {
    "name": "ipython",
    "version": 3
   },
   "file_extension": ".py",
   "mimetype": "text/x-python",
   "name": "python",
   "nbconvert_exporter": "python",
   "pygments_lexer": "ipython3",
   "version": "3.8.5"
  }
 },
 "nbformat": 4,
 "nbformat_minor": 1
}
